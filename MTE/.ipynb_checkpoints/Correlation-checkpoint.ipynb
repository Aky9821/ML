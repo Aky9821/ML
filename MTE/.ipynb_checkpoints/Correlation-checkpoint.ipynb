{
 "cells": [
  {
   "cell_type": "code",
   "execution_count": 1,
   "id": "78a1893f",
   "metadata": {},
   "outputs": [],
   "source": [
    "import numpy as np\n",
    "x = [215, 325, 185, 332, 406, 522, 412,\n",
    "614, 544, 421, 445, 408],\n",
    "\n",
    "y = [14.2, 16.4, 11.9, 15.2, 18.5, 22.1,\n",
    "19.4, 25.1, 23.4, 18.1, 22.6, 17.2]\n",
    "\n",
    "matrix = np.corrcoef(x, y)"
   ]
  },
  {
   "cell_type": "code",
   "execution_count": 2,
   "id": "02764cda",
   "metadata": {},
   "outputs": [
    {
     "name": "stdout",
     "output_type": "stream",
     "text": [
      "[[1.         0.95750662]\n",
      " [0.95750662 1.        ]]\n"
     ]
    }
   ],
   "source": [
    "print(matrix)"
   ]
  },
  {
   "cell_type": "code",
   "execution_count": 5,
   "id": "f7800548",
   "metadata": {},
   "outputs": [
    {
     "name": "stdout",
     "output_type": "stream",
     "text": [
      "    x   y   z\n",
      "0  45  38  10\n",
      "1  37  31  15\n",
      "2  42  26  17\n",
      "3  35  28  21\n",
      "4  39  33  12\n"
     ]
    }
   ],
   "source": [
    "import pandas as pd\n",
    "data = {\n",
    "'x': [45, 37, 42, 35, 39],\n",
    "'y': [38, 31, 26, 28, 33],\n",
    "'z': [10, 15, 17, 21, 12]\n",
    "}\n",
    "df=pd.DataFrame(data)\n",
    "print(df)"
   ]
  },
  {
   "cell_type": "code",
   "execution_count": 6,
   "id": "769b652f",
   "metadata": {},
   "outputs": [
    {
     "name": "stdout",
     "output_type": "stream",
     "text": [
      "          x         y         z\n",
      "x  1.000000  0.518457 -0.701886\n",
      "y  0.518457  1.000000 -0.860941\n",
      "z -0.701886 -0.860941  1.000000\n"
     ]
    }
   ],
   "source": [
    "print(df.corr())"
   ]
  },
  {
   "cell_type": "code",
   "execution_count": null,
   "id": "e436f512",
   "metadata": {},
   "outputs": [],
   "source": []
  }
 ],
 "metadata": {
  "kernelspec": {
   "display_name": "Python 3 (ipykernel)",
   "language": "python",
   "name": "python3"
  },
  "language_info": {
   "codemirror_mode": {
    "name": "ipython",
    "version": 3
   },
   "file_extension": ".py",
   "mimetype": "text/x-python",
   "name": "python",
   "nbconvert_exporter": "python",
   "pygments_lexer": "ipython3",
   "version": "3.10.7"
  }
 },
 "nbformat": 4,
 "nbformat_minor": 5
}
