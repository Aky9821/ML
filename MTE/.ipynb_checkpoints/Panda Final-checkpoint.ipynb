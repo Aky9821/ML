{
 "cells": [
  {
   "cell_type": "code",
   "execution_count": 63,
   "id": "37902e75",
   "metadata": {},
   "outputs": [
    {
     "name": "stdout",
     "output_type": "stream",
     "text": [
      "(3, 2)\n"
     ]
    }
   ],
   "source": [
    "import numpy as np\n",
    "import math as mt\n",
    "\n",
    "a= np.array([[1,2],[3,4],[5,6]])\n",
    "\n",
    "\n",
    "#print(a.shape)\n",
    "\n",
    "a.reshape(6,1)\n",
    "print(a.shape)"
   ]
  },
  {
   "cell_type": "code",
   "execution_count": 3,
   "id": "bf9c2b2f",
   "metadata": {},
   "outputs": [
    {
     "name": "stdout",
     "output_type": "stream",
     "text": [
      "a    1\n",
      "b    2\n",
      "c    3\n",
      "d    4\n",
      "e    5\n",
      "dtype: int64\n",
      "5\n"
     ]
    }
   ],
   "source": [
    "import pandas as pd\n",
    "s=pd.Series([1,2,3,4,5],[ 'a','b','c','d','e'])\n",
    "\n",
    "print(s)\n",
    "print(s[4])"
   ]
  },
  {
   "cell_type": "code",
   "execution_count": 108,
   "id": "32605214",
   "metadata": {},
   "outputs": [
    {
     "name": "stdout",
     "output_type": "stream",
     "text": [
      "A    [10, 20, 30]\n",
      "B              20\n",
      "C              30\n",
      "dtype: object\n",
      "[10, 20, 30]\n"
     ]
    }
   ],
   "source": [
    "     myDict = {'A':[10,20,30], 'B':20, 'C':30}\n",
    "     s=pd.Series(myDict)\n",
    "     print(s)\n",
    "     print(s['A'])"
   ]
  },
  {
   "cell_type": "code",
   "execution_count": 109,
   "id": "df4c17b4",
   "metadata": {},
   "outputs": [
    {
     "name": "stdout",
     "output_type": "stream",
     "text": [
      "X    77.0\n",
      "Y     NaN\n",
      "Z     NaN\n",
      "dtype: float64\n",
      "77.0\n"
     ]
    }
   ],
   "source": [
    "\n",
    "     myDict = {'A':10, 'B':20, 'C':30,'X':77}\n",
    "     series=pd.Series(myDict,index=['X','Y','Z'])\n",
    "     print(series)\n",
    "     print(series['X'])"
   ]
  },
  {
   "cell_type": "code",
   "execution_count": 110,
   "id": "ffabda10",
   "metadata": {},
   "outputs": [
    {
     "name": "stdout",
     "output_type": "stream",
     "text": [
      "C    30\n",
      "A    10\n",
      "B    20\n",
      "dtype: int64\n",
      "20\n"
     ]
    }
   ],
   "source": [
    "    myDict = {'A':10, 'B':20, 'C':30}\n",
    "    series=pd.Series(myDict,index=['C','A','B'])\n",
    "    print(series)\n",
    "    print(series['B'])\n"
   ]
  },
  {
   "cell_type": "code",
   "execution_count": 111,
   "id": "32af992a",
   "metadata": {},
   "outputs": [
    {
     "name": "stdout",
     "output_type": "stream",
     "text": [
      "a     1000\n",
      "b    10000\n",
      "c       77\n",
      "dtype: int64\n",
      "1000\n",
      "a    1232143234\n",
      "b         10000\n",
      "c            77\n",
      "dtype: int64\n"
     ]
    }
   ],
   "source": [
    "d={'a':1000,'b':10000,'c':77}\n",
    "c=pd.Series(d)\n",
    "print(c)\n",
    "print(c['a'])\n",
    "#print(c[c>=10000])\n",
    "c['a']=1232143234\n",
    "print(c)"
   ]
  },
  {
   "cell_type": "code",
   "execution_count": 112,
   "id": "55cfbe1b",
   "metadata": {},
   "outputs": [
    {
     "data": {
      "text/plain": [
       "a    1518176949091978756\n",
       "b              100000000\n",
       "c                   5929\n",
       "dtype: int64"
      ]
     },
     "execution_count": 112,
     "metadata": {},
     "output_type": "execute_result"
    }
   ],
   "source": [
    "np.square(c)"
   ]
  },
  {
   "cell_type": "code",
   "execution_count": 113,
   "id": "3fe16e31",
   "metadata": {},
   "outputs": [
    {
     "data": {
      "text/plain": [
       "a    False\n",
       "b    False\n",
       "c    False\n",
       "dtype: bool"
      ]
     },
     "execution_count": 113,
     "metadata": {},
     "output_type": "execute_result"
    }
   ],
   "source": [
    "c.isnull()"
   ]
  },
  {
   "cell_type": "code",
   "execution_count": 114,
   "id": "e0089053",
   "metadata": {},
   "outputs": [
    {
     "name": "stdout",
     "output_type": "stream",
     "text": [
      "      Name  Age  Height\n",
      "0     Anna   24     176\n",
      "1      Bob   32     187\n",
      "2  Charles   35     175\n"
     ]
    }
   ],
   "source": [
    "    data = {'Name': ['Anna', 'Bob', 'Charles'], \n",
    "                  'Age': [24, 32, 35],\n",
    "                  'Height': [176, 187,    175]\n",
    "                 }\n",
    "    d=pd.DataFrame (data)\n",
    "    print(d)\n"
   ]
  },
  {
   "cell_type": "code",
   "execution_count": 115,
   "id": "1b3caee2",
   "metadata": {},
   "outputs": [
    {
     "name": "stdout",
     "output_type": "stream",
     "text": [
      "      Name  Age  Height\n",
      "0     Anna   24     176\n",
      "1      Bob   32     187\n",
      "2  Charles   35     175\n",
      "      Name  Height\n",
      "0     Anna     176\n",
      "1      Bob     187\n",
      "2  Charles     175\n"
     ]
    }
   ],
   "source": [
    "\n",
    "    data = {'Name': ['Anna', 'Bob', 'Charles'], 'Age': [24, 32, 35],'Height': [176, 187, 175]}\n",
    "    d=pd.DataFrame (data)\n",
    "    print(d)\n",
    "    print(d[['Name','Height']])"
   ]
  },
  {
   "cell_type": "code",
   "execution_count": 116,
   "id": "ee794072",
   "metadata": {},
   "outputs": [
    {
     "name": "stdout",
     "output_type": "stream",
     "text": [
      "           0    1        2\n",
      "Name    Anna  Bob  Charles\n",
      "Age       24   32       35\n",
      "Height   176  187      175\n"
     ]
    }
   ],
   "source": [
    "#d=d.transpose()\n",
    "\n",
    "print(d.T)\n",
    "#d=d.transpose()"
   ]
  },
  {
   "cell_type": "code",
   "execution_count": 117,
   "id": "4fa1dde5",
   "metadata": {},
   "outputs": [
    {
     "name": "stdout",
     "output_type": "stream",
     "text": [
      "      Name  Age  Height\n",
      "0     Anna   24     176\n",
      "1      Bob   32     187\n",
      "2  Charles   35     175\n",
      "Name      object\n",
      "Age        int64\n",
      "Height     int64\n",
      "dtype: object\n"
     ]
    }
   ],
   "source": [
    "print(d)\n",
    "print(d.dtypes)"
   ]
  },
  {
   "cell_type": "code",
   "execution_count": 118,
   "id": "764949d5",
   "metadata": {},
   "outputs": [
    {
     "name": "stdout",
     "output_type": "stream",
     "text": [
      "2\n"
     ]
    }
   ],
   "source": [
    "print(d.ndim)#no of dimensions"
   ]
  },
  {
   "cell_type": "code",
   "execution_count": 119,
   "id": "7ac12818",
   "metadata": {},
   "outputs": [
    {
     "name": "stdout",
     "output_type": "stream",
     "text": [
      "(3, 3)\n"
     ]
    }
   ],
   "source": [
    "print(d.shape)"
   ]
  },
  {
   "cell_type": "code",
   "execution_count": 120,
   "id": "60d133c5",
   "metadata": {},
   "outputs": [
    {
     "name": "stdout",
     "output_type": "stream",
     "text": [
      "9\n"
     ]
    }
   ],
   "source": [
    "print(d.size)"
   ]
  },
  {
   "cell_type": "code",
   "execution_count": 121,
   "id": "9d9052dc",
   "metadata": {},
   "outputs": [
    {
     "name": "stdout",
     "output_type": "stream",
     "text": [
      "   Name  Age  Height\n",
      "0  Anna   24     176\n"
     ]
    }
   ],
   "source": [
    "print(d.head(1))"
   ]
  },
  {
   "cell_type": "code",
   "execution_count": 122,
   "id": "210038cb",
   "metadata": {},
   "outputs": [
    {
     "name": "stdout",
     "output_type": "stream",
     "text": [
      "      Name  Age  Height\n",
      "0     Anna   24     176\n",
      "1      Bob   32     187\n",
      "2  Charles   35     175\n"
     ]
    }
   ],
   "source": [
    "print(d.tail())"
   ]
  },
  {
   "cell_type": "code",
   "execution_count": 123,
   "id": "955fb6fb",
   "metadata": {},
   "outputs": [
    {
     "data": {
      "text/plain": [
       "Name      3\n",
       "Age       3\n",
       "Height    3\n",
       "dtype: int64"
      ]
     },
     "execution_count": 123,
     "metadata": {},
     "output_type": "execute_result"
    }
   ],
   "source": [
    "d.count()"
   ]
  },
  {
   "cell_type": "code",
   "execution_count": 124,
   "id": "df4d4da3",
   "metadata": {},
   "outputs": [
    {
     "data": {
      "text/plain": [
       "'AnnaBobCharles'"
      ]
     },
     "execution_count": 124,
     "metadata": {},
     "output_type": "execute_result"
    }
   ],
   "source": [
    "d['Name'].sum()"
   ]
  },
  {
   "cell_type": "code",
   "execution_count": 125,
   "id": "861ef2df",
   "metadata": {},
   "outputs": [
    {
     "data": {
      "text/plain": [
       "Name      AnnaBobCharles\n",
       "Age                   91\n",
       "Height               538\n",
       "dtype: object"
      ]
     },
     "execution_count": 125,
     "metadata": {},
     "output_type": "execute_result"
    }
   ],
   "source": [
    "d.sum()"
   ]
  },
  {
   "cell_type": "code",
   "execution_count": 126,
   "id": "ac86f1d4",
   "metadata": {},
   "outputs": [
    {
     "name": "stderr",
     "output_type": "stream",
     "text": [
      "/tmp/ipykernel_34825/1214089992.py:1: FutureWarning: Dropping of nuisance columns in DataFrame reductions (with 'numeric_only=None') is deprecated; in a future version this will raise TypeError.  Select only valid columns before calling the reduction.\n",
      "  d.mean()\n"
     ]
    },
    {
     "data": {
      "text/plain": [
       "Age        30.333333\n",
       "Height    179.333333\n",
       "dtype: float64"
      ]
     },
     "execution_count": 126,
     "metadata": {},
     "output_type": "execute_result"
    }
   ],
   "source": [
    "d.mean()"
   ]
  },
  {
   "cell_type": "code",
   "execution_count": 127,
   "id": "fe3f4644",
   "metadata": {},
   "outputs": [
    {
     "data": {
      "text/plain": [
       "30.333333333333332"
      ]
     },
     "execution_count": 127,
     "metadata": {},
     "output_type": "execute_result"
    }
   ],
   "source": [
    "d['Age'].mean()"
   ]
  },
  {
   "cell_type": "code",
   "execution_count": 128,
   "id": "66b75dca",
   "metadata": {},
   "outputs": [
    {
     "data": {
      "text/plain": [
       "0       Anna\n",
       "1        Bob\n",
       "2    Charles\n",
       "Name: Name, dtype: object"
      ]
     },
     "execution_count": 128,
     "metadata": {},
     "output_type": "execute_result"
    }
   ],
   "source": [
    "d['Name'].mode()"
   ]
  },
  {
   "cell_type": "code",
   "execution_count": 129,
   "id": "4fd72f49",
   "metadata": {},
   "outputs": [
    {
     "name": "stderr",
     "output_type": "stream",
     "text": [
      "/tmp/ipykernel_34825/3286961719.py:1: FutureWarning: Dropping of nuisance columns in DataFrame reductions (with 'numeric_only=None') is deprecated; in a future version this will raise TypeError.  Select only valid columns before calling the reduction.\n",
      "  d.median()\n"
     ]
    },
    {
     "data": {
      "text/plain": [
       "Age        32.0\n",
       "Height    176.0\n",
       "dtype: float64"
      ]
     },
     "execution_count": 129,
     "metadata": {},
     "output_type": "execute_result"
    }
   ],
   "source": [
    "d.median()"
   ]
  },
  {
   "cell_type": "code",
   "execution_count": 130,
   "id": "9758964f",
   "metadata": {},
   "outputs": [
    {
     "name": "stderr",
     "output_type": "stream",
     "text": [
      "/tmp/ipykernel_34825/4080983771.py:1: FutureWarning: Dropping of nuisance columns in DataFrame reductions (with 'numeric_only=None') is deprecated; in a future version this will raise TypeError.  Select only valid columns before calling the reduction.\n",
      "  d.std()\n"
     ]
    },
    {
     "data": {
      "text/plain": [
       "Age       5.686241\n",
       "Height    6.658328\n",
       "dtype: float64"
      ]
     },
     "execution_count": 130,
     "metadata": {},
     "output_type": "execute_result"
    }
   ],
   "source": [
    "d.std()"
   ]
  },
  {
   "cell_type": "code",
   "execution_count": 131,
   "id": "14d12eab",
   "metadata": {},
   "outputs": [
    {
     "data": {
      "text/plain": [
       "Name      Anna\n",
       "Age         24\n",
       "Height     175\n",
       "dtype: object"
      ]
     },
     "execution_count": 131,
     "metadata": {},
     "output_type": "execute_result"
    }
   ],
   "source": [
    "d.min()"
   ]
  },
  {
   "cell_type": "code",
   "execution_count": 132,
   "id": "6895ed38",
   "metadata": {},
   "outputs": [
    {
     "data": {
      "text/plain": [
       "Name      Charles\n",
       "Age            35\n",
       "Height        187\n",
       "dtype: object"
      ]
     },
     "execution_count": 132,
     "metadata": {},
     "output_type": "execute_result"
    }
   ],
   "source": [
    "d.max()"
   ]
  },
  {
   "cell_type": "code",
   "execution_count": 65,
   "id": "9bc69c05",
   "metadata": {},
   "outputs": [
    {
     "data": {
      "text/plain": [
       "0    24\n",
       "1    32\n",
       "2    35\n",
       "Name: Age, dtype: object"
      ]
     },
     "execution_count": 65,
     "metadata": {},
     "output_type": "execute_result"
    }
   ],
   "source": [
    "d['Age'].abs()"
   ]
  },
  {
   "cell_type": "code",
   "execution_count": 66,
   "id": "3f313bd5",
   "metadata": {},
   "outputs": [
    {
     "name": "stderr",
     "output_type": "stream",
     "text": [
      "/tmp/ipykernel_34825/3423768509.py:1: FutureWarning: Dropping of nuisance columns in DataFrame reductions (with 'numeric_only=None') is deprecated; in a future version this will raise TypeError.  Select only valid columns before calling the reduction.\n",
      "  d.product()\n"
     ]
    },
    {
     "data": {
      "text/plain": [
       "Age         26880\n",
       "Height    5759600\n",
       "dtype: object"
      ]
     },
     "execution_count": 66,
     "metadata": {},
     "output_type": "execute_result"
    }
   ],
   "source": [
    "d.product()"
   ]
  },
  {
   "cell_type": "code",
   "execution_count": 67,
   "id": "cdb09ea2",
   "metadata": {},
   "outputs": [
    {
     "data": {
      "text/html": [
       "<div>\n",
       "<style scoped>\n",
       "    .dataframe tbody tr th:only-of-type {\n",
       "        vertical-align: middle;\n",
       "    }\n",
       "\n",
       "    .dataframe tbody tr th {\n",
       "        vertical-align: top;\n",
       "    }\n",
       "\n",
       "    .dataframe thead th {\n",
       "        text-align: right;\n",
       "    }\n",
       "</style>\n",
       "<table border=\"1\" class=\"dataframe\">\n",
       "  <thead>\n",
       "    <tr style=\"text-align: right;\">\n",
       "      <th></th>\n",
       "      <th>Name</th>\n",
       "      <th>Age</th>\n",
       "      <th>Height</th>\n",
       "    </tr>\n",
       "  </thead>\n",
       "  <tbody>\n",
       "    <tr>\n",
       "      <th>count</th>\n",
       "      <td>3</td>\n",
       "      <td>3</td>\n",
       "      <td>3</td>\n",
       "    </tr>\n",
       "    <tr>\n",
       "      <th>unique</th>\n",
       "      <td>3</td>\n",
       "      <td>3</td>\n",
       "      <td>3</td>\n",
       "    </tr>\n",
       "    <tr>\n",
       "      <th>top</th>\n",
       "      <td>Anna</td>\n",
       "      <td>24</td>\n",
       "      <td>176</td>\n",
       "    </tr>\n",
       "    <tr>\n",
       "      <th>freq</th>\n",
       "      <td>1</td>\n",
       "      <td>1</td>\n",
       "      <td>1</td>\n",
       "    </tr>\n",
       "  </tbody>\n",
       "</table>\n",
       "</div>"
      ],
      "text/plain": [
       "        Name  Age  Height\n",
       "count      3    3       3\n",
       "unique     3    3       3\n",
       "top     Anna   24     176\n",
       "freq       1    1       1"
      ]
     },
     "execution_count": 67,
     "metadata": {},
     "output_type": "execute_result"
    }
   ],
   "source": [
    "d.describe()"
   ]
  },
  {
   "cell_type": "code",
   "execution_count": 136,
   "id": "c704ec72",
   "metadata": {},
   "outputs": [
    {
     "data": {
      "text/plain": [
       "30.333333333333332"
      ]
     },
     "execution_count": 136,
     "metadata": {},
     "output_type": "execute_result"
    }
   ],
   "source": [
    "np.mean(d['Age'])"
   ]
  },
  {
   "cell_type": "code",
   "execution_count": 71,
   "id": "22955eca",
   "metadata": {},
   "outputs": [
    {
     "name": "stdout",
     "output_type": "stream",
     "text": [
      "24\n",
      "32\n",
      "35\n"
     ]
    }
   ],
   "source": [
    "for x in d['Age']:\n",
    "    print(x)"
   ]
  },
  {
   "cell_type": "code",
   "execution_count": 72,
   "id": "20adf33b",
   "metadata": {},
   "outputs": [
    {
     "name": "stdout",
     "output_type": "stream",
     "text": [
      "Name: 0       Anna\n",
      "1        Bob\n",
      "2    Charles\n",
      "Name: Name, dtype: object\n",
      "Age: 0    24\n",
      "1    32\n",
      "2    35\n",
      "Name: Age, dtype: object\n",
      "Height: 0    176\n",
      "1    187\n",
      "2    175\n",
      "Name: Height, dtype: object\n"
     ]
    }
   ],
   "source": [
    "for key,val in d.iteritems():\n",
    "    print(\"{}: {}\".format(key,val))"
   ]
  },
  {
   "cell_type": "code",
   "execution_count": 73,
   "id": "d36660f8",
   "metadata": {},
   "outputs": [
    {
     "name": "stdout",
     "output_type": "stream",
     "text": [
      "0: Name      Anna\n",
      "Age         24\n",
      "Height     176\n",
      "Name: 0, dtype: object\n",
      "1: Name      Bob\n",
      "Age        32\n",
      "Height    187\n",
      "Name: 1, dtype: object\n",
      "2: Name      Charles\n",
      "Age            35\n",
      "Height        175\n",
      "Name: 2, dtype: object\n"
     ]
    }
   ],
   "source": [
    "for key,val in d.iterrows():\n",
    "    print(\"{}: {}\".format(key,val))"
   ]
  },
  {
   "cell_type": "code",
   "execution_count": 76,
   "id": "d188d6c0",
   "metadata": {},
   "outputs": [],
   "source": [
    "df=pd.DataFrame(np.random.rand(10,2),index=[1,5,3,6,7,2,8,9,0,4],columns=['A','B'])"
   ]
  },
  {
   "cell_type": "code",
   "execution_count": 77,
   "id": "1b80ed09",
   "metadata": {},
   "outputs": [
    {
     "name": "stdout",
     "output_type": "stream",
     "text": [
      "          A         B\n",
      "1  0.665680  0.396169\n",
      "5  0.088637  0.754639\n",
      "3  0.845344  0.247862\n",
      "6  0.115603  0.184377\n",
      "7  0.189857  0.463171\n",
      "2  0.315994  0.204601\n",
      "8  0.069898  0.246617\n",
      "9  0.555257  0.947618\n",
      "0  0.327664  0.886467\n",
      "4  0.328109  0.624497\n"
     ]
    }
   ],
   "source": [
    "print(df)"
   ]
  },
  {
   "cell_type": "code",
   "execution_count": 78,
   "id": "e6b07b57",
   "metadata": {},
   "outputs": [
    {
     "name": "stdout",
     "output_type": "stream",
     "text": [
      "          A         B\n",
      "0  0.327664  0.886467\n",
      "1  0.665680  0.396169\n",
      "2  0.315994  0.204601\n",
      "3  0.845344  0.247862\n",
      "4  0.328109  0.624497\n",
      "5  0.088637  0.754639\n",
      "6  0.115603  0.184377\n",
      "7  0.189857  0.463171\n",
      "8  0.069898  0.246617\n",
      "9  0.555257  0.947618\n"
     ]
    }
   ],
   "source": [
    "print(df.sort_index())"
   ]
  },
  {
   "cell_type": "code",
   "execution_count": 79,
   "id": "80e268d0",
   "metadata": {},
   "outputs": [],
   "source": [
    "df.sort_index(inplace=True)"
   ]
  },
  {
   "cell_type": "code",
   "execution_count": 80,
   "id": "da4d9e74",
   "metadata": {},
   "outputs": [
    {
     "name": "stdout",
     "output_type": "stream",
     "text": [
      "          A         B\n",
      "0  0.327664  0.886467\n",
      "1  0.665680  0.396169\n",
      "2  0.315994  0.204601\n",
      "3  0.845344  0.247862\n",
      "4  0.328109  0.624497\n",
      "5  0.088637  0.754639\n",
      "6  0.115603  0.184377\n",
      "7  0.189857  0.463171\n",
      "8  0.069898  0.246617\n",
      "9  0.555257  0.947618\n"
     ]
    }
   ],
   "source": [
    "print(df)"
   ]
  },
  {
   "cell_type": "code",
   "execution_count": 88,
   "id": "91b62c0e",
   "metadata": {},
   "outputs": [
    {
     "name": "stdout",
     "output_type": "stream",
     "text": [
      "   id      Name  Age  Height\n",
      "1   1       Bob   22     160\n",
      "0   0     Annna   24     160\n",
      "2   2  Chareles   30     180\n"
     ]
    }
   ],
   "source": [
    "data={'id':[0,1,2],'Name':['Annna','Bob','Chareles'],'Age':[24,22,30],'Height':[160,160,180]}\n",
    "df=pd.DataFrame(data)\n",
    "print(df.sort_values(by=['Height','Age']))"
   ]
  },
  {
   "cell_type": "code",
   "execution_count": 89,
   "id": "4480db3f",
   "metadata": {},
   "outputs": [
    {
     "name": "stdout",
     "output_type": "stream",
     "text": [
      "    Unnamed: 0      Name  Age  Height\n",
      "id                                   \n",
      "0            0     Annna   24     160\n",
      "1            1       Bob   22     160\n",
      "2            2  Chareles   30     180\n"
     ]
    }
   ],
   "source": [
    "df.to_csv('xyz.csv')\n",
    "df=pd.read_csv('xyz.csv')\n",
    "df.set_index('id',inplace=True)\n",
    "print(df)"
   ]
  },
  {
   "cell_type": "code",
   "execution_count": 90,
   "id": "4dd5ef84",
   "metadata": {},
   "outputs": [],
   "source": [
    "data1={'id':[0,1,2],'Name':['Annna','Bob','Chareles']}\n",
    "data2={'id':[0,1,3],'Age':[24,22,30],'Height':[160,160,180]}\n",
    "df1=pd.DataFrame(data1)\n",
    "df2=pd.DataFrame(data2)"
   ]
  },
  {
   "cell_type": "code",
   "execution_count": 91,
   "id": "ce4294e7",
   "metadata": {},
   "outputs": [
    {
     "name": "stdout",
     "output_type": "stream",
     "text": [
      "   id      Name\n",
      "0   0     Annna\n",
      "1   1       Bob\n",
      "2   2  Chareles\n"
     ]
    }
   ],
   "source": [
    "print(df1)"
   ]
  },
  {
   "cell_type": "code",
   "execution_count": 92,
   "id": "1a635b34",
   "metadata": {},
   "outputs": [
    {
     "name": "stdout",
     "output_type": "stream",
     "text": [
      "   id  Age  Height\n",
      "0   0   24     160\n",
      "1   1   22     160\n",
      "2   3   30     180\n"
     ]
    }
   ],
   "source": [
    "print(df2)"
   ]
  },
  {
   "cell_type": "code",
   "execution_count": 106,
   "id": "29ab9243",
   "metadata": {},
   "outputs": [
    {
     "name": "stdout",
     "output_type": "stream",
     "text": [
      "   id      Name   Age  Height\n",
      "0   0     Annna  24.0   160.0\n",
      "1   1       Bob  22.0   160.0\n",
      "2   2  Chareles   NaN     NaN\n",
      "3   3       NaN  30.0   180.0\n"
     ]
    }
   ],
   "source": [
    "df=pd.merge(df1,df2,on='id',how='outer')\n",
    "print(df)"
   ]
  },
  {
   "cell_type": "code",
   "execution_count": 105,
   "id": "f0ec0471",
   "metadata": {},
   "outputs": [
    {
     "name": "stdout",
     "output_type": "stream",
     "text": [
      "   id   Name  Age  Height\n",
      "0   0  Annna   24     160\n"
     ]
    }
   ],
   "source": [
    "print(df.loc[df['Age']>22])"
   ]
  },
  {
   "cell_type": "code",
   "execution_count": 138,
   "id": "1ebd0cf7",
   "metadata": {},
   "outputs": [],
   "source": [
    "#file=['file1','file2']\n",
    "#data=[]\n",
    "#for name in  file:\n",
    "#    data.append(pd.read_csv(name))\n",
    "#df=pd.merge(data[0],data[1],on='id',how='inner')"
   ]
  },
  {
   "cell_type": "code",
   "execution_count": 150,
   "id": "1abd1154",
   "metadata": {},
   "outputs": [
    {
     "name": "stdout",
     "output_type": "stream",
     "text": [
      "   one  two  three\n",
      "a  1.0    1   10.0\n",
      "b  2.0    2   20.0\n",
      "c  3.0    3   30.0\n",
      "d  NaN    4    NaN\n",
      "   one  two  three  four\n",
      "a  1.0    1   10.0  11.0\n",
      "b  2.0    2   20.0  22.0\n",
      "c  3.0    3   30.0  33.0\n",
      "d  NaN    4    NaN   NaN\n"
     ]
    }
   ],
   "source": [
    "d = {'one' : pd.Series([1, 2, 3], index=['a', 'b', 'c']), 'two' : pd.Series([1, 2, 3, 4], index=['a', 'b', 'c', 'd'])} \n",
    "df = pd.DataFrame(d) \n",
    "\n",
    "df['three']=pd.Series([10,20,30],index=['a','b','c']) \n",
    "print (df)\n",
    "\n",
    "df['four']=df['one']+df['three'] \n",
    "print (df)"
   ]
  },
  {
   "cell_type": "code",
   "execution_count": 151,
   "id": "cb0b88d1",
   "metadata": {},
   "outputs": [],
   "source": [
    "del df['one'] "
   ]
  },
  {
   "cell_type": "code",
   "execution_count": 152,
   "id": "018e142d",
   "metadata": {},
   "outputs": [
    {
     "name": "stdout",
     "output_type": "stream",
     "text": [
      "   two  three  four\n",
      "a    1   10.0  11.0\n",
      "b    2   20.0  22.0\n",
      "c    3   30.0  33.0\n",
      "d    4    NaN   NaN\n"
     ]
    }
   ],
   "source": [
    "print(df)"
   ]
  },
  {
   "cell_type": "code",
   "execution_count": 153,
   "id": "59e1fcd1",
   "metadata": {},
   "outputs": [
    {
     "name": "stdout",
     "output_type": "stream",
     "text": [
      "   three  four\n",
      "a   10.0  11.0\n",
      "b   20.0  22.0\n",
      "c   30.0  33.0\n",
      "d    NaN   NaN\n"
     ]
    }
   ],
   "source": [
    "df.pop('two') \n",
    "print(df)"
   ]
  },
  {
   "cell_type": "code",
   "execution_count": 158,
   "id": "158b35b8",
   "metadata": {},
   "outputs": [
    {
     "name": "stdout",
     "output_type": "stream",
     "text": [
      "   one  two\n",
      "a  1.0    1\n",
      "b  2.0    2\n",
      "c  3.0    3\n",
      "d  NaN    4\n",
      "one    2.0\n",
      "two    2.0\n",
      "Name: b, dtype: float64\n"
     ]
    }
   ],
   "source": [
    "d = {'one' : pd.Series([1, 2, 3], index=['a', 'b', 'c']), 'two' : pd.Series([1, 2, 3, 4], index=['a', 'b', 'c', 'd'])} \n",
    "df = pd.DataFrame(d) \n",
    "print(df)\n",
    "print( df.loc['b'])"
   ]
  },
  {
   "cell_type": "code",
   "execution_count": 157,
   "id": "719dd0d4",
   "metadata": {},
   "outputs": [
    {
     "name": "stdout",
     "output_type": "stream",
     "text": [
      "one    3.0\n",
      "two    3.0\n",
      "Name: c, dtype: float64\n"
     ]
    }
   ],
   "source": [
    "print( df.iloc[2])"
   ]
  },
  {
   "cell_type": "code",
   "execution_count": 159,
   "id": "fbc3b97e",
   "metadata": {},
   "outputs": [
    {
     "name": "stdout",
     "output_type": "stream",
     "text": [
      "   one  two\n",
      "a  1.0    1\n",
      "b  2.0    2\n",
      "c  3.0    3\n",
      "d  NaN    4\n",
      "   one  two\n",
      "c  3.0    3\n",
      "d  NaN    4\n"
     ]
    }
   ],
   "source": [
    "d = {'one' : pd.Series([1, 2, 3], index=['a', 'b', 'c']), 'two' : pd.Series([1, 2, 3, 4], index=['a', 'b', 'c', 'd'])} \n",
    "df = pd.DataFrame(d) \n",
    "print(df)\n",
    "print (df[2:4])"
   ]
  },
  {
   "cell_type": "code",
   "execution_count": 160,
   "id": "b1e98610",
   "metadata": {},
   "outputs": [
    {
     "name": "stdout",
     "output_type": "stream",
     "text": [
      "   a  b\n",
      "0  1  2\n",
      "1  3  4\n",
      "0  5  6\n",
      "1  7  8\n"
     ]
    },
    {
     "name": "stderr",
     "output_type": "stream",
     "text": [
      "/tmp/ipykernel_34825/2591589784.py:3: FutureWarning: The frame.append method is deprecated and will be removed from pandas in a future version. Use pandas.concat instead.\n",
      "  df = df.append(df2)\n"
     ]
    }
   ],
   "source": [
    "df = pd.DataFrame([[1, 2], [3, 4]], columns = ['a','b']) \n",
    "df2 = pd.DataFrame([[5, 6], [7, 8]], columns = ['a','b']) \n",
    "df = df.append(df2) \n",
    "print (df)"
   ]
  },
  {
   "cell_type": "code",
   "execution_count": 6,
   "id": "e8ea1e14",
   "metadata": {},
   "outputs": [
    {
     "name": "stdout",
     "output_type": "stream",
     "text": [
      "   Col1  Col2\n",
      "a   1.0   NaN\n",
      "b   2.0   NaN\n",
      "c   3.0   NaN\n",
      "e   4.0   NaN\n",
      "x   NaN   4.0\n",
      "y   NaN   5.0\n",
      "z   NaN   6.0\n",
      "   Col1  Col2\n",
      "a   1.0   2.0\n",
      "b   2.0   2.0\n",
      "c   3.0   2.0\n",
      "e   4.0   2.0\n",
      "x   1.0   4.0\n",
      "y   1.0   5.0\n",
      "z   1.0   6.0\n"
     ]
    }
   ],
   "source": [
    "d={'Col1' : pd.Series([1,2,3,4],index=['a','b','c','e']), 'Col2' : pd.Series([4,5,6],index=['x','y','z'])}\n",
    "p=pd.DataFrame(d)\n",
    "print(p)\n",
    "p['Col1'].fillna(1,inplace=True)\n",
    "p['Col2'].fillna(2,inplace=True)\n",
    "print(p)"
   ]
  },
  {
   "cell_type": "code",
   "execution_count": 7,
   "id": "dbf6b762",
   "metadata": {},
   "outputs": [
    {
     "name": "stdout",
     "output_type": "stream",
     "text": [
      "a    1\n",
      "b    2\n",
      "c    3\n",
      "dtype: int64\n",
      "    Name  Age\n",
      "a   Alex   20\n",
      "b    Bob   30\n",
      "c  Clark   40\n",
      "   one  two\n",
      "a  1.0    1\n",
      "b  2.0    2\n",
      "c  3.0    3\n",
      "d  NaN    4\n",
      "   one  two  three\n",
      "a  1.0    1   10.0\n",
      "b  2.0    2   20.0\n",
      "c  3.0    3   30.0\n",
      "d  NaN    4    NaN\n",
      "   one  two  three  four\n",
      "a  1.0    1   10.0   2.0\n",
      "b  2.0    2   20.0   4.0\n",
      "c  3.0    3   30.0   6.0\n",
      "d  NaN    4    NaN   NaN\n"
     ]
    }
   ],
   "source": [
    "a=pd.Series([1,2,3],index=['a','b','c'])\n",
    "\n",
    "print(a)\n",
    "\n",
    "data =[['Alex',20],['Bob',30],['Clark',40]]\n",
    "df=pd.DataFrame(data,columns=['Name','Age'],index=['a','b','c'])\n",
    "print(df)\n",
    "\n",
    "d={'one' : pd.Series([1,2,3],index=['a','b','c']), 'two' : pd.Series([1,2,3,4],index=['a','b','c','d'])}\n",
    "print(pd.DataFrame(d))\n",
    "df=pd.DataFrame(d)\n",
    "df['three']=pd.Series([10,20,30],index=['a','b','c'])\n",
    "print(df)\n",
    "df['four']=df['one']+df['two']\n",
    "print(df)"
   ]
  },
  {
   "cell_type": "code",
   "execution_count": null,
   "id": "0f58c44e",
   "metadata": {},
   "outputs": [],
   "source": []
  }
 ],
 "metadata": {
  "kernelspec": {
   "display_name": "Python 3 (ipykernel)",
   "language": "python",
   "name": "python3"
  },
  "language_info": {
   "codemirror_mode": {
    "name": "ipython",
    "version": 3
   },
   "file_extension": ".py",
   "mimetype": "text/x-python",
   "name": "python",
   "nbconvert_exporter": "python",
   "pygments_lexer": "ipython3",
   "version": "3.10.7"
  }
 },
 "nbformat": 4,
 "nbformat_minor": 5
}
