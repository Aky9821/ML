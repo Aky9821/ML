{
 "cells": [
  {
   "cell_type": "code",
   "execution_count": 1,
   "id": "d9f243ab",
   "metadata": {},
   "outputs": [
    {
     "name": "stdout",
     "output_type": "stream",
     "text": [
      "-1792.0000000000032\n"
     ]
    }
   ],
   "source": [
    "import numpy as np\n",
    "\n",
    "a=np.array([[16,1,2,3],[4, 5, 6 ,7],[8,9,17,11],[12,13,14,15]])\n",
    "det =np.linalg.det(a)\n",
    "print(det)"
   ]
  },
  {
   "cell_type": "code",
   "execution_count": 4,
   "id": "5bf9c51a",
   "metadata": {},
   "outputs": [],
   "source": [
    "def matrix_cofactor(matrix):\n",
    " \n",
    "    try:\n",
    "        determinant = np.linalg.det(matrix)\n",
    "        if(determinant!=0):\n",
    "            cofactor = None\n",
    "            cofactor = np.linalg.inv(matrix).T * determinant\n",
    "            return cofactor\n",
    "        else:\n",
    "            raise Exception(\"singular matrix\")\n",
    "    except Exception as e:\n",
    "        print(\"could not find cofactor matrix due to\",e)\n",
    "            \n",
    "    "
   ]
  },
  {
   "cell_type": "code",
   "execution_count": 5,
   "id": "e73f50fe",
   "metadata": {},
   "outputs": [
    {
     "name": "stdout",
     "output_type": "stream",
     "text": [
      "[[-1.12000000e+02  1.68000000e+02 -4.24296933e-15 -5.60000000e+01]\n",
      " [ 1.68000000e+02  1.36400000e+03  1.28000000e+02 -1.43600000e+03]\n",
      " [ 1.24344979e-14  1.28000000e+02 -2.56000000e+02  1.28000000e+02]\n",
      " [-5.60000000e+01 -7.64000000e+02  1.28000000e+02  4.68000000e+02]]\n"
     ]
    }
   ],
   "source": [
    "print(matrix_cofactor(a))"
   ]
  },
  {
   "cell_type": "code",
   "execution_count": 6,
   "id": "fc85153c",
   "metadata": {},
   "outputs": [
    {
     "data": {
      "text/plain": [
       "array([[-1.12000000e+02,  1.68000000e+02,  1.24344979e-14,\n",
       "        -5.60000000e+01],\n",
       "       [ 1.68000000e+02,  1.36400000e+03,  1.28000000e+02,\n",
       "        -7.64000000e+02],\n",
       "       [-4.24296933e-15,  1.28000000e+02, -2.56000000e+02,\n",
       "         1.28000000e+02],\n",
       "       [-5.60000000e+01, -1.43600000e+03,  1.28000000e+02,\n",
       "         4.68000000e+02]])"
      ]
     },
     "execution_count": 6,
     "metadata": {},
     "output_type": "execute_result"
    }
   ],
   "source": [
    "aT=matrix_cofactor(a)\n",
    "aT.transpose()"
   ]
  },
  {
   "cell_type": "code",
   "execution_count": 7,
   "id": "21cf8bbd",
   "metadata": {},
   "outputs": [],
   "source": [
    "a=np.array([[1,2,-2],[-2,2 ,1],[2,1,2]])\n",
    "aT=a.transpose()"
   ]
  },
  {
   "cell_type": "code",
   "execution_count": 8,
   "id": "ae16bd3e",
   "metadata": {},
   "outputs": [
    {
     "name": "stdout",
     "output_type": "stream",
     "text": [
      "[[ 1 -2  2]\n",
      " [ 2  2  1]\n",
      " [-2  1  2]]\n"
     ]
    }
   ],
   "source": [
    "print(aT)"
   ]
  },
  {
   "cell_type": "code",
   "execution_count": 9,
   "id": "d8c7e442",
   "metadata": {},
   "outputs": [
    {
     "name": "stdout",
     "output_type": "stream",
     "text": [
      "[[9 0 0]\n",
      " [0 9 0]\n",
      " [0 0 9]]\n"
     ]
    }
   ],
   "source": [
    "print(a@aT)"
   ]
  },
  {
   "cell_type": "code",
   "execution_count": 10,
   "id": "a03e70b4",
   "metadata": {},
   "outputs": [
    {
     "name": "stdout",
     "output_type": "stream",
     "text": [
      "200.0\n",
      "50.0\n",
      "102.0\n",
      "10000.0\n",
      "True\n",
      "False\n",
      "False\n"
     ]
    }
   ],
   "source": [
    "x=100\n",
    "y=2.0\n",
    "print(x*y)\n",
    "print(x/y)\n",
    "print(x+y)\n",
    "print(pow(x,y))\n",
    "print(x==y or x!=y)\n",
    "print(x==y and x!=y)\n",
    "print(not(x==y or x!=y))\n"
   ]
  },
  {
   "cell_type": "code",
   "execution_count": 11,
   "id": "f0e33883",
   "metadata": {},
   "outputs": [
    {
     "name": "stdout",
     "output_type": "stream",
     "text": [
      "      Name  Episodes  Gender\n",
      "0  Sheldon        22    Male\n",
      "1    Penny        25  Female\n",
      "2      Amy        66  Female\n",
      "3    Penny        28  Female\n",
      "4      Raj        12    Male\n",
      "5  Sheldon        11    Male\n"
     ]
    }
   ],
   "source": [
    "import pandas as pd\n",
    "\n",
    "\n",
    "data={'Name': ['Sheldon','Penny','Amy','Penny','Raj','Sheldon'],'Episodes':[22,25,66,28,12,11],'Gender':['Male','Female','Female','Female','Male','Male']}\n",
    "\n",
    "\n",
    "\n",
    "\n",
    "df=pd.DataFrame(data,columns=['Name','Episodes','Gender'])\n",
    "print(df)"
   ]
  },
  {
   "cell_type": "code",
   "execution_count": 12,
   "id": "53c6e8a3",
   "metadata": {},
   "outputs": [
    {
     "name": "stdout",
     "output_type": "stream",
     "text": [
      "[[0 1 2]\n",
      " [3 4 5]\n",
      " [6 7 5]]\n",
      "[[0 3 6]\n",
      " [1 4 7]\n",
      " [2 5 5]]\n",
      "[[  5  14  17]\n",
      " [ 14  50  71]\n",
      " [ 17  71 110]]\n"
     ]
    }
   ],
   "source": [
    "a=np.array([[0,1,2],[3,4,5],[6,7,5]])\n",
    "print(a)\n",
    "aT=a.transpose()\n",
    "print(aT)\n",
    "print(a@aT)"
   ]
  },
  {
   "cell_type": "code",
   "execution_count": 13,
   "id": "407ce082",
   "metadata": {},
   "outputs": [
    {
     "name": "stdout",
     "output_type": "stream",
     "text": [
      "{'brand': 'Ford', 'model': 'Mustang', 'year': 1964}\n"
     ]
    }
   ],
   "source": [
    "thisdict = {\n",
    "  \"brand\": \"Ford\",\n",
    "  \"model\": \"Mustang\",\n",
    "  \"year\": 1964\n",
    "}\n",
    "print(thisdict)"
   ]
  },
  {
   "cell_type": "code",
   "execution_count": 34,
   "id": "ffe2de62",
   "metadata": {},
   "outputs": [
    {
     "name": "stdout",
     "output_type": "stream",
     "text": [
      "A    object\n",
      "B    object\n",
      "C    object\n",
      "dtype: object\n",
      "A      int64\n",
      "B     object\n",
      "C    float64\n",
      "dtype: object\n"
     ]
    }
   ],
   "source": [
    "\n",
    "\n",
    "df = pd.DataFrame({\n",
    "    'A': [1, 2, '3', 4, 5],\n",
    "    'B': ['a', 'b', 'c', 'd', 'e'],\n",
    "    'C': [1.1, '1.0', '1.3', 2, 5],\n",
    "})\n",
    " \n",
    "# using dictionary to convert specific columns\n",
    "print(df.dtypes)\n",
    "convert_dict = {'A': int,\n",
    "                'C': 'float'\n",
    "                \n",
    "                }\n",
    " \n",
    "df = df.astype(convert_dict)\n",
    "print(df.dtypes)"
   ]
  },
  {
   "cell_type": "code",
   "execution_count": 3,
   "id": "4c4df05f",
   "metadata": {},
   "outputs": [
    {
     "ename": "SyntaxError",
     "evalue": "invalid syntax (107018461.py, line 2)",
     "output_type": "error",
     "traceback": [
      "\u001b[0;36m  Input \u001b[0;32mIn [3]\u001b[0;36m\u001b[0m\n\u001b[0;31m    for i=1 to n:\u001b[0m\n\u001b[0m         ^\u001b[0m\n\u001b[0;31mSyntaxError\u001b[0m\u001b[0;31m:\u001b[0m invalid syntax\n"
     ]
    }
   ],
   "source": [
    "n=100\n",
    "for i=1 to n:\n",
    "    \n",
    "        for j=n to i:\n",
    "            \n",
    "            print(j)"
   ]
  },
  {
   "cell_type": "code",
   "execution_count": 2,
   "id": "e1b517b5",
   "metadata": {},
   "outputs": [],
   "source": [
    "import numpy as np\n",
    "\n",
    "a=np.array([[16,1,2,3],[4, 5, 6 ,7])\n",
    "b=np.array([[8,9],[17,11],[12,13,14,15]]])"
   ]
  },
  {
   "cell_type": "code",
   "execution_count": null,
   "id": "9e42adfb",
   "metadata": {},
   "outputs": [],
   "source": []
  }
 ],
 "metadata": {
  "kernelspec": {
   "display_name": "Python 3 (ipykernel)",
   "language": "python",
   "name": "python3"
  },
  "language_info": {
   "codemirror_mode": {
    "name": "ipython",
    "version": 3
   },
   "file_extension": ".py",
   "mimetype": "text/x-python",
   "name": "python",
   "nbconvert_exporter": "python",
   "pygments_lexer": "ipython3",
   "version": "3.10.7"
  },
  "vscode": {
   "interpreter": {
    "hash": "e7370f93d1d0cde622a1f8e1c04877d8463912d04d973331ad4851f04de6915a"
   }
  }
 },
 "nbformat": 4,
 "nbformat_minor": 5
}
